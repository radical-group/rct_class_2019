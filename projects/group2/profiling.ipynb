{
 "cells": [
  {
   "cell_type": "code",
   "execution_count": 19,
   "metadata": {},
   "outputs": [],
   "source": [
    "import matplotlib \n",
    "import pandas as pd\n",
    "import csv\n",
    "import time\n",
    "import matplotlib.pyplot as plt"
   ]
  },
  {
   "cell_type": "code",
   "execution_count": 3,
   "metadata": {},
   "outputs": [],
   "source": [
    "path = '/Users/JumanaDakka/git/rct_class_2019/projects/group2/results/worker_10.csv'\n",
    "data = pd.read_csv(path)\n",
    "df_10 = pd.DataFrame(data)  \n",
    "df_10.columns = ['a', 'b', 'c', 'd', 'e', 'f','g', 'h', 'i', 'j', 'k', 'l', 'm']\n",
    "df_10 = df_10.drop(['a', 'e', 'f','g','i', 'l', 'm'], axis=1)\n",
    "df_10.columns = ['executed', 'results', 'completed', 'resources', 'task_id', 'scheduled']\n",
    "df_10 = df_10[['task_id','scheduled', 'executed', 'completed', 'results', 'resources']] \n",
    "for i in range(9):\n",
    "    df_10['task_id'][i] = int(df_10['task_id'][i].split(':')[1])\n",
    "    df_10['scheduled'][i] = float(df_10['scheduled'][i].split(':')[-1][2:-1])\n",
    "    df_10['executed'][i] = float(df_10['executed'][i].split(':')[-1][2:-1])\n",
    "    df_10['completed'][i] = float(df_10['completed'][i].split(':')[-1][2:-1])\n",
    "    df_10['results'][i] = (df_10['results'][i].split(':')[1])[2:-1]\n",
    "    df_10['resources'][i] = int(df_10['resources'][i].split(':')[1])\n",
    "df_10 = df_10.set_index('task_id')\n",
    "df_10 = df_10.sort_values(by=['task_id'])"
   ]
  },
  {
   "cell_type": "code",
   "execution_count": 5,
   "metadata": {
    "scrolled": true
   },
   "outputs": [],
   "source": [
    "path = '/Users/JumanaDakka/git/rct_class_2019/projects/group2/results/worker_100.csv'\n",
    "data = pd.read_csv(path)\n",
    "df_100 = pd.DataFrame(data)  \n",
    "df_100.columns = ['a', 'b', 'c', 'd', 'e', 'f','g', 'h', 'i', 'j', 'k', 'l', 'm']\n",
    "df_100 = df_100.drop(['a', 'e', 'f','g','i', 'l', 'm'], axis=1)\n",
    "df_100.columns = ['executed', 'results', 'completed', 'resources', 'task_id', 'scheduled']\n",
    "df_100 = df_100[['task_id','scheduled', 'executed', 'completed', 'results', 'resources']] \n",
    "for i in range(99):\n",
    "    df_100['task_id'][i] = int(df_100['task_id'][i].split(':')[1])\n",
    "    df_100['scheduled'][i] = float(df_100['scheduled'][i].split(':')[-1][2:-1])\n",
    "    df_100['executed'][i] = float(df_100['executed'][i].split(':')[-1][2:-1])\n",
    "    df_100['completed'][i] = float(df_100['completed'][i].split(':')[-1][2:-1])\n",
    "    df_100['results'][i] = (df_100['results'][i].split(':')[1])[2:-1]\n",
    "    df_100['resources'][i] = int(df_100['resources'][i].split(':')[1])\n",
    "df_100 = df_100.set_index('task_id')\n",
    "df_100 = df_100.sort_values(by=['task_id'])\n"
   ]
  },
  {
   "cell_type": "code",
   "execution_count": 6,
   "metadata": {},
   "outputs": [],
   "source": [
    "path = '/Users/JumanaDakka/git/rct_class_2019/projects/group2/results/worker_1000.csv'\n",
    "data = pd.read_csv(path)\n",
    "df_1000 = pd.DataFrame(data)  \n",
    "df_1000.columns = ['a', 'b', 'c', 'd', 'e', 'f','g', 'h', 'i', 'j', 'k', 'l', 'm']\n",
    "df_1000 = df_1000.drop(['a', 'e', 'f','g','i', 'l', 'm'], axis=1)\n",
    "df_1000.columns = ['executed', 'results', 'completed', 'resources', 'task_id', 'scheduled']\n",
    "df_1000 = df_1000[['task_id','scheduled', 'executed', 'completed', 'results', 'resources']] \n",
    "for i in range(999):\n",
    "    df_1000['task_id'][i] = int(df_1000['task_id'][i].split(':')[1])\n",
    "    df_1000['scheduled'][i] = float(df_1000['scheduled'][i].split(':')[-1][2:-1])\n",
    "    df_1000['executed'][i] = float(df_1000['executed'][i].split(':')[-1][2:-1])\n",
    "    df_1000['completed'][i] = float(df_1000['completed'][i].split(':')[-1][2:-1])\n",
    "    df_1000['results'][i] = (df_1000['results'][i].split(':')[1])[2:-1]\n",
    "    df_1000['resources'][i] = int(df_1000['resources'][i].split(':')[1])\n",
    "df_1000 = df_1000.set_index('task_id')\n",
    "df_1000 = df_1000.sort_values(by=['task_id'])"
   ]
  },
  {
   "cell_type": "code",
   "execution_count": 7,
   "metadata": {},
   "outputs": [],
   "source": [
    "df_10_scheduled_mean = df_10['scheduled'].mean()\n",
    "df_10_executed_mean = df_10['executed'].mean()\n",
    "df_10_completed_mean = df_10['completed'].mean()\n",
    "ttx_10 = df_10_completed_mean - df_10_scheduled_mean\n",
    "\n",
    "df_100_scheduled_mean = df_100['scheduled'].mean()\n",
    "df_100_executed_mean = df_100['executed'].mean()\n",
    "df_100_completed_mean = df_100['completed'].mean()\n",
    "ttx_100 = df_100_completed_mean - df_100_scheduled_mean\n",
    "\n",
    "df_1000_scheduled_mean = df_1000['scheduled'].mean()\n",
    "df_1000_executed_mean = df_1000['executed'].mean()\n",
    "df_1000_completed_mean = df_1000['completed'].mean()\n",
    "ttx_1000 = df_1000_completed_mean - df_1000_scheduled_mean"
   ]
  },
  {
   "cell_type": "code",
   "execution_count": 8,
   "metadata": {},
   "outputs": [
    {
     "data": {
      "text/html": [
       "<div>\n",
       "<style scoped>\n",
       "    .dataframe tbody tr th:only-of-type {\n",
       "        vertical-align: middle;\n",
       "    }\n",
       "\n",
       "    .dataframe tbody tr th {\n",
       "        vertical-align: top;\n",
       "    }\n",
       "\n",
       "    .dataframe thead th {\n",
       "        text-align: right;\n",
       "    }\n",
       "</style>\n",
       "<table border=\"1\" class=\"dataframe\">\n",
       "  <thead>\n",
       "    <tr style=\"text-align: right;\">\n",
       "      <th></th>\n",
       "      <th>TTX</th>\n",
       "    </tr>\n",
       "    <tr>\n",
       "      <th>Tasks</th>\n",
       "      <th></th>\n",
       "    </tr>\n",
       "  </thead>\n",
       "  <tbody>\n",
       "    <tr>\n",
       "      <th>10</th>\n",
       "      <td>3.001757</td>\n",
       "    </tr>\n",
       "    <tr>\n",
       "      <th>100</th>\n",
       "      <td>8.485581</td>\n",
       "    </tr>\n",
       "    <tr>\n",
       "      <th>1000</th>\n",
       "      <td>89.269134</td>\n",
       "    </tr>\n",
       "  </tbody>\n",
       "</table>\n",
       "</div>"
      ],
      "text/plain": [
       "             TTX\n",
       "Tasks           \n",
       "10      3.001757\n",
       "100     8.485581\n",
       "1000   89.269134"
      ]
     },
     "execution_count": 8,
     "metadata": {},
     "output_type": "execute_result"
    }
   ],
   "source": [
    "df_ss = pd.DataFrame({'Tasks':['10', '100', '1000'], 'TTX':[ttx_10, ttx_100, ttx_1000]})\n",
    "df_ss.set_index('Tasks')"
   ]
  },
  {
   "cell_type": "code",
   "execution_count": 9,
   "metadata": {},
   "outputs": [
    {
     "data": {
      "text/plain": [
       "Text(0.5, 0, 'Number of Tasks')"
      ]
     },
     "execution_count": 9,
     "metadata": {},
     "output_type": "execute_result"
    }
   ],
   "source": [
    "ax = df_ss.plot.bar(x='Tasks', y='TTX', rot=0, log = True, figsize = (12,5), fontsize = 20)\n",
    "ax.set_title('TTX of Increasing Number of Tasks, 10 Processes', fontsize = 20)\n",
    "ax.set_ylabel('TTX (s)', fontsize= 20)\n",
    "ax.set_xlabel('Number of Tasks', fontsize = 20)"
   ]
  },
  {
   "cell_type": "markdown",
   "metadata": {},
   "source": [
    "### Specs of machine for running experiment: \n",
    "\n",
    "* 2.6 GHz Intel Core i7\n",
    "* 16 GB 1600 MHz DDR3\n",
    "* (CPU count = 8) \n",
    "\n",
    "### Fix number of tasks to 10, increase # of processes:\n",
    "\n",
    "* Point 1 : 10 processes, 10 tasks\n",
    "* Point 2 : 100 processes,  100 tasks\n",
    "* Point 3 : 1000 processes, 1000 tasks\n"
   ]
  },
  {
   "cell_type": "code",
   "execution_count": 10,
   "metadata": {},
   "outputs": [],
   "source": [
    "path = '/Users/JumanaDakka/git/rct_class_2019/projects/group2/results/100_processes_100_tasks.csv'\n",
    "data = pd.read_csv(path)\n",
    "df_ws_100 = pd.DataFrame(data)  \n",
    "df_ws_100.columns = ['a', 'b', 'c', 'd', 'e', 'f','g', 'h', 'i', 'j', 'k', 'l', 'm']\n",
    "df_ws_100 = df_ws_100.drop(['a', 'e', 'f','g','i', 'l', 'm'], axis=1)\n",
    "df_ws_100.columns = ['executed', 'results', 'completed', 'resources', 'task_id', 'scheduled']\n",
    "df_ws_100 = df_ws_100[['task_id','scheduled', 'executed', 'completed', 'results', 'resources']] \n",
    "for i in range(99):\n",
    "    df_ws_100['task_id'][i] = int(df_ws_100['task_id'][i].split(':')[1])\n",
    "    df_ws_100['scheduled'][i] = float(df_ws_100['scheduled'][i].split(':')[-1][2:-1])\n",
    "    df_ws_100['executed'][i] = float(df_ws_100['executed'][i].split(':')[-1][2:-1])\n",
    "    df_ws_100['completed'][i] = float(df_ws_100['completed'][i].split(':')[-1][2:-1])\n",
    "    df_ws_100['results'][i] = (df_ws_100['results'][i].split(':')[1])[2:-1]\n",
    "    df_ws_100['resources'][i] = int(df_ws_100['resources'][i].split(':')[1])\n",
    "df_ws_100 = df_ws_100.set_index('task_id')\n",
    "df_ws_100 = df_ws_100.sort_values(by=['task_id'])"
   ]
  },
  {
   "cell_type": "code",
   "execution_count": 11,
   "metadata": {},
   "outputs": [],
   "source": [
    "df_10_scheduled_mean = df_10['scheduled'].mean()\n",
    "df_10_executed_mean = df_10['executed'].mean()\n",
    "df_10_completed_mean = df_10['completed'].mean()\n",
    "ttx_ws_10 = df_10_completed_mean - df_10_scheduled_mean\n",
    "\n",
    "df_ws_100_scheduled_mean = df_ws_100['scheduled'].mean()\n",
    "df_ws_100_executed_mean = df_ws_100['executed'].mean()\n",
    "df_ws_100_completed_mean = df_ws_100['completed'].mean()\n",
    "ttx_ws_100 = df_ws_100_completed_mean - df_ws_100_scheduled_mean\n",
    "\n",
    "df_ws_1000_scheduled_mean = df_1000['scheduled'].mean()\n",
    "df_ws_1000_executed_mean = df_1000['executed'].mean()\n",
    "df_ws_1000_completed_mean = df_1000['completed'].mean()\n",
    "ttx_ws_1000 = df_ws_1000_completed_mean - df_ws_1000_scheduled_mean"
   ]
  },
  {
   "cell_type": "code",
   "execution_count": 14,
   "metadata": {},
   "outputs": [
    {
     "data": {
      "text/html": [
       "<div>\n",
       "<style scoped>\n",
       "    .dataframe tbody tr th:only-of-type {\n",
       "        vertical-align: middle;\n",
       "    }\n",
       "\n",
       "    .dataframe tbody tr th {\n",
       "        vertical-align: top;\n",
       "    }\n",
       "\n",
       "    .dataframe thead th {\n",
       "        text-align: right;\n",
       "    }\n",
       "</style>\n",
       "<table border=\"1\" class=\"dataframe\">\n",
       "  <thead>\n",
       "    <tr style=\"text-align: right;\">\n",
       "      <th></th>\n",
       "      <th>TTX</th>\n",
       "    </tr>\n",
       "    <tr>\n",
       "      <th>Processes</th>\n",
       "      <th></th>\n",
       "    </tr>\n",
       "  </thead>\n",
       "  <tbody>\n",
       "    <tr>\n",
       "      <th>10</th>\n",
       "      <td>3.001757</td>\n",
       "    </tr>\n",
       "    <tr>\n",
       "      <th>100</th>\n",
       "      <td>18.311790</td>\n",
       "    </tr>\n",
       "    <tr>\n",
       "      <th>1000</th>\n",
       "      <td>89.269134</td>\n",
       "    </tr>\n",
       "  </tbody>\n",
       "</table>\n",
       "</div>"
      ],
      "text/plain": [
       "                 TTX\n",
       "Processes           \n",
       "10          3.001757\n",
       "100        18.311790\n",
       "1000       89.269134"
      ]
     },
     "execution_count": 14,
     "metadata": {},
     "output_type": "execute_result"
    }
   ],
   "source": [
    "df_ws = pd.DataFrame({'Processes':['10', '100', '1000'], 'TTX':[ttx_ws_10, ttx_ws_100, ttx_ws_1000]})\n",
    "df_ws.set_index('Processes')"
   ]
  },
  {
   "cell_type": "code",
   "execution_count": 21,
   "metadata": {},
   "outputs": [
    {
     "data": {
      "image/png": "[encoded data removed]",
      "text/plain": [
       "<Figure size 864x360 with 1 Axes>"
      ]
     },
     "metadata": {
      "needs_background": "light"
     },
     "output_type": "display_data"
    }
   ],
   "source": [
    "ax = df_ss.plot.bar(x='Tasks', y='TTX', rot=0, log = True, figsize = (12,5), fontsize = 20)\n",
    "ax.set_title('TTX (WS) Increasing Number of Tasks and Processes', fontsize = 20)\n",
    "ax.set_ylabel('TTX (s)', fontsize= 20)\n",
    "ax.set_xlabel('Number of Tasks/Processes', fontsize = 20)\n",
    "plt.savefig('TTX.pdf', dpi=300, bbox_inches='tight')\n",
    "plt.savefig('TTX.png', dpi=300, bbox_inches='tight')"
   ]
  },
  {
   "cell_type": "code",
   "execution_count": null,
   "metadata": {},
   "outputs": [],
   "source": []
  }
 ],
 "metadata": {
  "kernelspec": {
   "display_name": "Python 3",
   "language": "python",
   "name": "python3"
  },
  "language_info": {
   "codemirror_mode": {
    "name": "ipython",
    "version": 3
   },
   "file_extension": ".py",
   "mimetype": "text/x-python",
   "name": "python",
   "nbconvert_exporter": "python",
   "pygments_lexer": "ipython3",
   "version": "3.7.2"
  }
 },
 "nbformat": 4,
 "nbformat_minor": 2
}
